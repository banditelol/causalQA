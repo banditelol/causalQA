{
 "cells": [
  {
   "cell_type": "code",
   "execution_count": null,
   "metadata": {},
   "outputs": [],
   "source": [
    "import json\n",
    "import re\n",
    "\n",
    "def strip_punct(s):\n",
    "    '''Removes all characters except Russian and Latin letters'''\n",
    "    s = re.sub('[^А-Яа-яЁёЙйA-Za-z0-9]', ' ', s.lower())\n",
    "    return \" \".join(s.lower().split())\n",
    "\n",
    "def identify_causal(json_file, question_field):\n",
    "    causal_entries = list()   \n",
    "    for jline in json_file:\n",
    "        question = strip_punct(json.loads(jline)[question_field])\n",
    "        if pattern1.search(question) or pattern2.search(question) or pattern3.search(question)\\\n",
    "        or pattern4.search(question) or pattern5.search(question) or pattern6.search(question) or pattern7.search(question):\n",
    "            causal_entries.append(json.loads(jline))        \n",
    "    return causal_entries\n",
    "\n",
    "pattern1 = re.compile(r\"\\Awhy|(?=\\Aif)(?=.*why )|(?=\\Awhen)(?=.*why )| and why | why is \\w+ | is \\w+ why \", re.IGNORECASE)\n",
    "pattern2 = re.compile(r\"\\Acause.{0,1} | cause.{0,1} |because of what\", re.IGNORECASE)\n",
    "pattern3 = re.compile(\"\\s*how come |\\s*how did \", re.IGNORECASE)\n",
    "pattern4 = re.compile(r\"^(?!.*dopplar).*effect.{0,1} .*$| affect{0,1} \", re.IGNORECASE)\n",
    "pattern5 = re.compile(' lead to', re.IGNORECASE)\n",
    "pattern6 = re.compile(r\"(?=.*what happens)(?=.*if)|(?=.*what will happen)(?=.*if)|(?=.*what might happen)(?=.*if)|\\\n",
    "(?=.*what happens)(?=.*when)|(?=.*what will happen)(?=.*when)|(?=.*what might happen)(?=.*when)\", re.IGNORECASE)\n",
    "pattern7 = re.compile(\"\\Awhat to do if |\\Awhat to do when |\\Awhat to do to |\\\n",
    "\\Awhat should be done if |\\Awhat should be done when |\\Awhat should be done to \", re.IGNORECASE)"
   ]
  },
  {
   "cell_type": "code",
   "execution_count": null,
   "metadata": {},
   "outputs": [],
   "source": [
    "question_field = 'question' # different datasets have different field name\n",
    "with open('path_to_json_data_file.jsonl', 'r') as jfile:\n",
    "    causal_entries = identify_causal(jfile, question_field)\n",
    "f.close()"
   ]
  }
 ],
 "metadata": {
  "kernelspec": {
   "display_name": "Python 3",
   "language": "python",
   "name": "python3"
  },
  "language_info": {
   "codemirror_mode": {
    "name": "ipython",
    "version": 3
   },
   "file_extension": ".py",
   "mimetype": "text/x-python",
   "name": "python",
   "nbconvert_exporter": "python",
   "pygments_lexer": "ipython3",
   "version": "3.8.10"
  }
 },
 "nbformat": 4,
 "nbformat_minor": 4
}
